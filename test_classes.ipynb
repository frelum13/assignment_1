{
 "metadata": {
  "language_info": {
   "codemirror_mode": {
    "name": "ipython",
    "version": 3
   },
   "file_extension": ".py",
   "mimetype": "text/x-python",
   "name": "python",
   "nbconvert_exporter": "python",
   "pygments_lexer": "ipython3",
   "version": "3.8.6-final"
  },
  "orig_nbformat": 2,
  "kernelspec": {
   "name": "python3",
   "display_name": "Python 3",
   "language": "python"
  }
 },
 "nbformat": 4,
 "nbformat_minor": 2,
 "cells": [
  {
   "source": [
    "# Assignment 1: Basic Concepts of Object-Oriented Programming\n",
    "\n",
    "\n",
    "\n",
    "\n"
   ],
   "cell_type": "markdown",
   "metadata": {}
  },
  {
   "cell_type": "code",
   "execution_count": null,
   "metadata": {},
   "outputs": [],
   "source": [
    "%load_ext autoreload\n",
    "%autoreload 2"
   ]
  },
  {
   "cell_type": "code",
   "execution_count": null,
   "metadata": {},
   "outputs": [],
   "source": [
    "from config_reader import ConfigReader\n",
    "from dataset import Dataset\n",
    "from dataset_explorer import DatasetExplorer"
   ]
  },
  {
   "source": [
    "## Heart Disease Dataset"
   ],
   "cell_type": "markdown",
   "metadata": {}
  },
  {
   "cell_type": "code",
   "execution_count": null,
   "metadata": {},
   "outputs": [],
   "source": [
    "config = ConfigReader.read_json_config(\"./config_heart_disease.json\")\n",
    "dataset = Dataset(config)\n",
    "explorer = DatasetExplorer(dataset, config[\"plot_types\"])"
   ]
  },
  {
   "cell_type": "code",
   "execution_count": null,
   "metadata": {},
   "outputs": [],
   "source": [
    "# Calculate correlations and quartiles\n",
    "print(explorer.calculate_correlation_between_features(\"trestbps\", \"ca\", method = \"pearson\"))\n",
    "print(explorer.calculate_correlation_between_features(\"trestbps\", \"ca\", method = \"spearman\"))\n",
    "print(explorer.calculate_correlation_between_features(\"trestbps\", \"ca\", method = \"kendalltau\"))\n",
    "print(\"---\")\n",
    "explorer.print_quartiles_of_feature(\"trestbps\")"
   ]
  },
  {
   "cell_type": "code",
   "execution_count": null,
   "metadata": {},
   "outputs": [],
   "source": [
    "# Plot features\n",
    "explorer.plot_feature(\"trestbps\") \n",
    "explorer.plot_feature_vs_target(\"trestbps\")"
   ]
  },
  {
   "source": [
    "## Parkinson Speech Dataset"
   ],
   "cell_type": "markdown",
   "metadata": {}
  },
  {
   "cell_type": "code",
   "execution_count": null,
   "metadata": {},
   "outputs": [],
   "source": [
    "config = ConfigReader.read_json_config(\"./config_parkinson_sound_recording.json\")\n",
    "dataset = Dataset(config)\n",
    "explorer = DatasetExplorer(dataset, config[\"plot_types\"])"
   ]
  },
  {
   "cell_type": "code",
   "execution_count": null,
   "metadata": {},
   "outputs": [],
   "source": [
    "# Calculate correlations and quartiles\n",
    "print(explorer.calculate_correlation_between_features(\"jitter_local\", \"shimmer_local\", method = \"pearson\"))\n",
    "print(explorer.calculate_correlation_between_features(\"jitter_local\", \"shimmer_local\", method = \"spearman\"))\n",
    "print(explorer.calculate_correlation_between_features(\"jitter_local\", \"shimmer_local\", method = \"kendalltau\"))\n",
    "print(\"---\")\n",
    "explorer.print_quartiles_of_feature(\"jitter_local\")"
   ]
  },
  {
   "cell_type": "code",
   "execution_count": null,
   "metadata": {},
   "outputs": [],
   "source": [
    "# Plot features\n",
    "explorer.plot_feature(\"jitter_local\") \n",
    "explorer.plot_feature_vs_target(\"jitter_local\")"
   ]
  }
 ]
}